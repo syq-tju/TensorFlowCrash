{
  "nbformat": 4,
  "nbformat_minor": 0,
  "metadata": {
    "colab": {
      "provenance": []
    },
    "kernelspec": {
      "name": "python3",
      "display_name": "Python 3"
    },
    "language_info": {
      "name": "python"
    }
  },
  "cells": [
    {
      "cell_type": "code",
      "source": [
        "!apt install -y git\n"
      ],
      "metadata": {
        "colab": {
          "base_uri": "https://localhost:8080/"
        },
        "id": "NJwndUM0YN8W",
        "outputId": "4ff27e83-e5e6-48fc-b327-7292ab9283f8"
      },
      "execution_count": 71,
      "outputs": [
        {
          "output_type": "stream",
          "name": "stdout",
          "text": [
            "Reading package lists... Done\n",
            "Building dependency tree... Done\n",
            "Reading state information... Done\n",
            "git is already the newest version (1:2.34.1-1ubuntu1.10).\n",
            "0 upgraded, 0 newly installed, 0 to remove and 19 not upgraded.\n"
          ]
        }
      ]
    },
    {
      "cell_type": "code",
      "source": [
        "!git clone https://github.com/syq-tju/TensorFlowCrash.git"
      ],
      "metadata": {
        "colab": {
          "base_uri": "https://localhost:8080/"
        },
        "id": "cezUF8rWbjJT",
        "outputId": "c50a88de-d7f8-47c5-a24f-3d419523c73d"
      },
      "execution_count": 72,
      "outputs": [
        {
          "output_type": "stream",
          "name": "stdout",
          "text": [
            "fatal: destination path 'TensorFlowCrash' already exists and is not an empty directory.\n"
          ]
        }
      ]
    },
    {
      "cell_type": "markdown",
      "source": [
        "### 1.3.1 导入TensorFlow"
      ],
      "metadata": {
        "id": "2QjEf0gS_7fU"
      }
    },
    {
      "cell_type": "code",
      "execution_count": 74,
      "metadata": {
        "colab": {
          "base_uri": "https://localhost:8080/"
        },
        "id": "hyUDHKV5EA1P",
        "outputId": "c239fa5d-5380-4a08-ee3f-4325eb54de60"
      },
      "outputs": [
        {
          "output_type": "stream",
          "name": "stdout",
          "text": [
            "Tensorflow version: 2.14.0\n",
            "Eager execution is: True\n"
          ]
        }
      ],
      "source": [
        "import tensorflow as tf\n",
        "print(\"Tensorflow version: {}\".format(tf.__version__))\n",
        "print(\"Eager execution is: {}\".format(tf.executing_eagerly()))\n",
        "#print(\"Keras version: {}\".format(tf.keras.__version__))"
      ]
    },
    {
      "cell_type": "markdown",
      "source": [
        "### 1.3.2 TensorFlow编码风格"
      ],
      "metadata": {
        "id": "zrf2nSGnABTX"
      }
    },
    {
      "cell_type": "markdown",
      "source": [
        "### 1.3.3 动态图机制（Eager Execution）"
      ],
      "metadata": {
        "id": "ZAhmUDX7AKsW"
      }
    },
    {
      "cell_type": "code",
      "source": [
        "\n",
        "#var = tf.Variable([3,3])\n",
        "with tf.device('/GPU:0'):\n",
        "    var = tf.Variable([3,3])\n",
        "\n",
        "\n",
        "# 列出所有的 GPU 设备\n",
        "gpus = tf.config.list_physical_devices('GPU')\n",
        "\n",
        "# 如果有 GPU 设备\n",
        "if gpus:\n",
        "    print('Running on GPU')\n",
        "    for gpu in gpus:\n",
        "        print(\"Device name:\", gpu.name)\n",
        "\n",
        "    # 检查 var 变量是否被分配给了第一个 GPU 设备\n",
        "    print('Is var on GPU #0?', var.device.endswith('GPU:0'))\n",
        "else:\n",
        "    print('No GPU devices found.')\n",
        "\n",
        "\n",
        "print(\"Device for var:\", var.device)\n"
      ],
      "metadata": {
        "colab": {
          "base_uri": "https://localhost:8080/"
        },
        "id": "GD2hOmIAJBw6",
        "outputId": "6ede95eb-2bb6-49d7-c959-daa0740c8e99"
      },
      "execution_count": 75,
      "outputs": [
        {
          "output_type": "stream",
          "name": "stdout",
          "text": [
            "No GPU devices found.\n",
            "Device for var: /job:localhost/replica:0/task:0/device:CPU:0\n"
          ]
        }
      ]
    },
    {
      "cell_type": "markdown",
      "source": [
        "### 1.3.4 声明Eager变量"
      ],
      "metadata": {
        "id": "6oBPJU2dAb6x"
      }
    },
    {
      "cell_type": "code",
      "source": [
        "t0 = 24\n",
        "t1 = tf.Variable(24)\n",
        "t2 = tf.Variable([[[0.,1,2],[3,4,5]],[[6,7,8],[9,10,11]]])\n",
        "t0,t1,t2"
      ],
      "metadata": {
        "colab": {
          "base_uri": "https://localhost:8080/"
        },
        "id": "Uz5tnlhYZicD",
        "outputId": "badafd9f-937c-4e04-835d-3b36541d1dd9"
      },
      "execution_count": 76,
      "outputs": [
        {
          "output_type": "execute_result",
          "data": {
            "text/plain": [
              "(24,\n",
              " <tf.Variable 'Variable:0' shape=() dtype=int32, numpy=24>,\n",
              " <tf.Variable 'Variable:0' shape=(2, 2, 3) dtype=float32, numpy=\n",
              " array([[[ 0.,  1.,  2.],\n",
              "         [ 3.,  4.,  5.]],\n",
              " \n",
              "        [[ 6.,  7.,  8.],\n",
              "         [ 9., 10., 11.]]], dtype=float32)>)"
            ]
          },
          "metadata": {},
          "execution_count": 76
        }
      ]
    },
    {
      "cell_type": "code",
      "source": [
        "f64 = tf.Variable(89,dtype = tf.float64)\n",
        "f64.dtype"
      ],
      "metadata": {
        "colab": {
          "base_uri": "https://localhost:8080/"
        },
        "id": "djz-tRhc5Xtt",
        "outputId": "53b3e56b-7a8d-4cd4-9c22-344c5378545e"
      },
      "execution_count": 77,
      "outputs": [
        {
          "output_type": "execute_result",
          "data": {
            "text/plain": [
              "tf.float64"
            ]
          },
          "metadata": {},
          "execution_count": 77
        }
      ]
    },
    {
      "cell_type": "code",
      "source": [
        "f1 = tf.Variable(89.)\n",
        "f1\n",
        "f1.assign(98)\n",
        "f1"
      ],
      "metadata": {
        "colab": {
          "base_uri": "https://localhost:8080/"
        },
        "id": "YpAL1jEX5pXA",
        "outputId": "43122d50-78fb-42db-a073-1a96740084dd"
      },
      "execution_count": 78,
      "outputs": [
        {
          "output_type": "execute_result",
          "data": {
            "text/plain": [
              "<tf.Variable 'Variable:0' shape=() dtype=float32, numpy=98.0>"
            ]
          },
          "metadata": {},
          "execution_count": 78
        }
      ]
    },
    {
      "cell_type": "markdown",
      "source": [],
      "metadata": {
        "id": "1lhEisB5_6Au"
      }
    },
    {
      "cell_type": "markdown",
      "source": [
        "### 1.3.5 声明TensorFlow常量"
      ],
      "metadata": {
        "id": "pPStAz1b7UI9"
      }
    },
    {
      "cell_type": "code",
      "source": [
        "m_o_1 = tf.constant(42)\n",
        "m_o_1\n",
        "#m_o_1.numpy()"
      ],
      "metadata": {
        "colab": {
          "base_uri": "https://localhost:8080/"
        },
        "id": "QPvkFXlc6NLK",
        "outputId": "55a54d32-b1be-40db-ba33-0e1cb6610fd3"
      },
      "execution_count": 79,
      "outputs": [
        {
          "output_type": "execute_result",
          "data": {
            "text/plain": [
              "<tf.Tensor: shape=(), dtype=int32, numpy=42>"
            ]
          },
          "metadata": {},
          "execution_count": 79
        }
      ]
    },
    {
      "cell_type": "code",
      "source": [
        "unit = tf.constant(1,dtype = tf.int64)\n",
        "unit\n",
        "#unit.numpy()"
      ],
      "metadata": {
        "colab": {
          "base_uri": "https://localhost:8080/"
        },
        "id": "ezeq93LX6g4h",
        "outputId": "43cfd5b9-72ff-429a-fa69-6faf72bf6171"
      },
      "execution_count": 80,
      "outputs": [
        {
          "output_type": "execute_result",
          "data": {
            "text/plain": [
              "<tf.Tensor: shape=(), dtype=int64, numpy=1>"
            ]
          },
          "metadata": {},
          "execution_count": 80
        }
      ]
    },
    {
      "cell_type": "markdown",
      "source": [
        "### 1.3.6 创建tensor张量"
      ],
      "metadata": {
        "id": "sXHrF6Zi6zab"
      }
    },
    {
      "cell_type": "code",
      "source": [
        "t2 = tf.Variable([[[0.,1,2],[3,4,5]],[[6,7,8],[9,10,11]]])\n",
        "print(t2.shape)\n",
        "r1 = tf.reshape(t2,[2,6])\n",
        "r2 = tf.reshape(t2,[1,-1])\n",
        "t2,r1,r2"
      ],
      "metadata": {
        "colab": {
          "base_uri": "https://localhost:8080/"
        },
        "id": "x27Izdc36ylg",
        "outputId": "1bd81ea5-1bcd-4a4e-e718-b802b8230d14"
      },
      "execution_count": 81,
      "outputs": [
        {
          "output_type": "stream",
          "name": "stdout",
          "text": [
            "(2, 2, 3)\n"
          ]
        },
        {
          "output_type": "execute_result",
          "data": {
            "text/plain": [
              "(<tf.Variable 'Variable:0' shape=(2, 2, 3) dtype=float32, numpy=\n",
              " array([[[ 0.,  1.,  2.],\n",
              "         [ 3.,  4.,  5.]],\n",
              " \n",
              "        [[ 6.,  7.,  8.],\n",
              "         [ 9., 10., 11.]]], dtype=float32)>,\n",
              " <tf.Tensor: shape=(2, 6), dtype=float32, numpy=\n",
              " array([[ 0.,  1.,  2.,  3.,  4.,  5.],\n",
              "        [ 6.,  7.,  8.,  9., 10., 11.]], dtype=float32)>,\n",
              " <tf.Tensor: shape=(1, 12), dtype=float32, numpy=\n",
              " array([[ 0.,  1.,  2.,  3.,  4.,  5.,  6.,  7.,  8.,  9., 10., 11.]],\n",
              "       dtype=float32)>)"
            ]
          },
          "metadata": {},
          "execution_count": 81
        }
      ]
    },
    {
      "cell_type": "markdown",
      "source": [
        "### 1.3.7 张量的秩（张量的维数）"
      ],
      "metadata": {
        "id": "W-1M7Y8ZExhE"
      }
    },
    {
      "cell_type": "code",
      "source": [
        "tf.rank(t2)   #表述t2是三维的张量，需要三个量确定t2里面的任意元素位置。"
      ],
      "metadata": {
        "colab": {
          "base_uri": "https://localhost:8080/"
        },
        "id": "LnjxqXTFEu1G",
        "outputId": "b483195a-c2d9-422f-ca8b-a356c79aeb2d"
      },
      "execution_count": 82,
      "outputs": [
        {
          "output_type": "execute_result",
          "data": {
            "text/plain": [
              "<tf.Tensor: shape=(), dtype=int32, numpy=3>"
            ]
          },
          "metadata": {},
          "execution_count": 82
        }
      ]
    },
    {
      "cell_type": "markdown",
      "source": [
        "### 1.3.8 指定张量的元素"
      ],
      "metadata": {
        "id": "H7RVmQQGGLnv"
      }
    },
    {
      "cell_type": "code",
      "source": [
        "t3 = t2[1,0,2]\n",
        "t3"
      ],
      "metadata": {
        "colab": {
          "base_uri": "https://localhost:8080/"
        },
        "id": "T4TVHjqbGQL8",
        "outputId": "1d7ad1e0-07f3-4e54-948e-e541471baf0c"
      },
      "execution_count": 83,
      "outputs": [
        {
          "output_type": "execute_result",
          "data": {
            "text/plain": [
              "<tf.Tensor: shape=(), dtype=float32, numpy=8.0>"
            ]
          },
          "metadata": {},
          "execution_count": 83
        }
      ]
    },
    {
      "cell_type": "markdown",
      "source": [
        "### 1.3.9 张量转化为Numpy/Python变量"
      ],
      "metadata": {
        "id": "9zdg0HrOGmql"
      }
    },
    {
      "cell_type": "code",
      "source": [
        "print(t2.numpy())\n",
        "print(t2[1,0,2].numpy())"
      ],
      "metadata": {
        "colab": {
          "base_uri": "https://localhost:8080/"
        },
        "id": "xj751puGGtRw",
        "outputId": "8d8aa20b-9593-4bab-e8d3-2e8cdf6e8381"
      },
      "execution_count": 84,
      "outputs": [
        {
          "output_type": "stream",
          "name": "stdout",
          "text": [
            "[[[ 0.  1.  2.]\n",
            "  [ 3.  4.  5.]]\n",
            "\n",
            " [[ 6.  7.  8.]\n",
            "  [ 9. 10. 11.]]]\n",
            "8.0\n"
          ]
        }
      ]
    },
    {
      "cell_type": "markdown",
      "source": [
        "### 1.3.10 计算张量的大小"
      ],
      "metadata": {
        "id": "Emegy7T-HB6h"
      }
    },
    {
      "cell_type": "code",
      "source": [
        "s = tf.size(input = t2).numpy()\n",
        "s"
      ],
      "metadata": {
        "colab": {
          "base_uri": "https://localhost:8080/"
        },
        "id": "IouUfpNmHIQe",
        "outputId": "ad7723d4-a43f-44a7-bcb0-ee05b72165dc"
      },
      "execution_count": 85,
      "outputs": [
        {
          "output_type": "execute_result",
          "data": {
            "text/plain": [
              "12"
            ]
          },
          "metadata": {},
          "execution_count": 85
        }
      ]
    },
    {
      "cell_type": "markdown",
      "source": [
        "### 1.3.11 查看张量的数据类型"
      ],
      "metadata": {
        "id": "tD98BRgxFvKJ"
      }
    },
    {
      "cell_type": "code",
      "source": [
        "t3.dtype"
      ],
      "metadata": {
        "colab": {
          "base_uri": "https://localhost:8080/"
        },
        "id": "u4YLEX7VF1zi",
        "outputId": "c932acf8-d3b4-4957-a4ee-dd34e30cc89e"
      },
      "execution_count": 86,
      "outputs": [
        {
          "output_type": "execute_result",
          "data": {
            "text/plain": [
              "tf.float32"
            ]
          },
          "metadata": {},
          "execution_count": 86
        }
      ]
    },
    {
      "cell_type": "markdown",
      "source": [
        "### 1.3.12 张量元素的基本运算规则"
      ],
      "metadata": {
        "id": "BS0gIpPVGWAd"
      }
    },
    {
      "cell_type": "code",
      "source": [
        "t2 * t2"
      ],
      "metadata": {
        "colab": {
          "base_uri": "https://localhost:8080/"
        },
        "id": "AdsbzUX-GcyF",
        "outputId": "69be2b9a-d517-4831-8b4e-c4c02ea94363"
      },
      "execution_count": 87,
      "outputs": [
        {
          "output_type": "execute_result",
          "data": {
            "text/plain": [
              "<tf.Tensor: shape=(2, 2, 3), dtype=float32, numpy=\n",
              "array([[[  0.,   1.,   4.],\n",
              "        [  9.,  16.,  25.]],\n",
              "\n",
              "       [[ 36.,  49.,  64.],\n",
              "        [ 81., 100., 121.]]], dtype=float32)>"
            ]
          },
          "metadata": {},
          "execution_count": 87
        }
      ]
    },
    {
      "cell_type": "markdown",
      "source": [
        "### 1.3.13 广播机制"
      ],
      "metadata": {
        "id": "l1L-nseXGsyA"
      }
    },
    {
      "cell_type": "code",
      "source": [
        "t4 = t2 * 4\n",
        "print(t4)\n",
        "t5 = tf.broadcast_to(t3,[2,2,3])\n",
        "print(t5)\n"
      ],
      "metadata": {
        "colab": {
          "base_uri": "https://localhost:8080/"
        },
        "id": "gaxZ6DC1GqG8",
        "outputId": "1d24c266-7f3b-4e2b-9dcd-178b95a58cdb"
      },
      "execution_count": 88,
      "outputs": [
        {
          "output_type": "stream",
          "name": "stdout",
          "text": [
            "tf.Tensor(\n",
            "[[[ 0.  4.  8.]\n",
            "  [12. 16. 20.]]\n",
            "\n",
            " [[24. 28. 32.]\n",
            "  [36. 40. 44.]]], shape=(2, 2, 3), dtype=float32)\n",
            "tf.Tensor(\n",
            "[[[8. 8. 8.]\n",
            "  [8. 8. 8.]]\n",
            "\n",
            " [[8. 8. 8.]\n",
            "  [8. 8. 8.]]], shape=(2, 2, 3), dtype=float32)\n"
          ]
        }
      ]
    },
    {
      "cell_type": "markdown",
      "source": [
        "### 1.3.14 TensorFlow 转置和矩阵乘法\n"
      ],
      "metadata": {
        "id": "8CLvtgVEH4wn"
      }
    },
    {
      "cell_type": "code",
      "source": [
        "u = tf.constant([[3,4,3]])\n",
        "v = tf.constant([[1,2,3]])\n",
        "tf.matmul(u,tf.transpose(v))"
      ],
      "metadata": {
        "colab": {
          "base_uri": "https://localhost:8080/"
        },
        "id": "H_mWn0UAHAd1",
        "outputId": "5a0a6a2c-b39c-41d8-9023-bf1c4855c04b"
      },
      "execution_count": 89,
      "outputs": [
        {
          "output_type": "execute_result",
          "data": {
            "text/plain": [
              "<tf.Tensor: shape=(1, 1), dtype=int32, numpy=array([[20]], dtype=int32)>"
            ]
          },
          "metadata": {},
          "execution_count": 89
        }
      ]
    },
    {
      "cell_type": "markdown",
      "source": [
        "### 1.3.15 张量数据类型转化"
      ],
      "metadata": {
        "id": "Z8azGRYOrXnk"
      }
    },
    {
      "cell_type": "code",
      "source": [
        "i = tf.cast(t1,dtype=tf.int32)\n",
        "print(i)\n",
        "j = tf.cast(tf.constant(2.5),dtype=tf.int32)\n",
        "print(j)\n"
      ],
      "metadata": {
        "colab": {
          "base_uri": "https://localhost:8080/"
        },
        "id": "cRCuhp--rh2X",
        "outputId": "acecbfc7-12d8-4e85-db47-d53edd51b084"
      },
      "execution_count": 90,
      "outputs": [
        {
          "output_type": "stream",
          "name": "stdout",
          "text": [
            "<tf.Variable 'Variable:0' shape=() dtype=int32, numpy=24>\n",
            "tf.Tensor(2, shape=(), dtype=int32)\n"
          ]
        }
      ]
    },
    {
      "cell_type": "markdown",
      "source": [
        "### 1.3.16 声明不规则张量"
      ],
      "metadata": {
        "id": "B0EvCfAjsLnC"
      }
    },
    {
      "cell_type": "code",
      "source": [
        "ragged = tf.ragged.constant([[1,2,3,4],[],[5,6,7],[8],[9,10]])\n",
        "print(ragged)\n",
        "print(ragged.shape)\n",
        "print(ragged.dtype)\n",
        "print(ragged.to_tensor())\n"
      ],
      "metadata": {
        "colab": {
          "base_uri": "https://localhost:8080/"
        },
        "id": "SyfE_HOysIGK",
        "outputId": "5dc398b7-83e3-435e-e350-b5f65bf9bc14"
      },
      "execution_count": 91,
      "outputs": [
        {
          "output_type": "stream",
          "name": "stdout",
          "text": [
            "<tf.RaggedTensor [[1, 2, 3, 4], [], [5, 6, 7], [8], [9, 10]]>\n",
            "(5, None)\n",
            "<dtype: 'int32'>\n",
            "tf.Tensor(\n",
            "[[ 1  2  3  4]\n",
            " [ 0  0  0  0]\n",
            " [ 5  6  7  0]\n",
            " [ 8  0  0  0]\n",
            " [ 9 10  0  0]], shape=(5, 4), dtype=int32)\n"
          ]
        }
      ]
    },
    {
      "cell_type": "markdown",
      "source": [
        "## 1.4 TensorFlow的基础操作"
      ],
      "metadata": {
        "id": "pUcLanfXtDnf"
      }
    },
    {
      "cell_type": "code",
      "source": [
        "from numpy import s_\n",
        "x = tf.constant([[1,2,3],[4,5,6]])\n",
        "y = tf.constant([[7,8,9],[10,11,12]])\n",
        "s_add = x + y\n",
        "s_sub = x - y\n",
        "s_mul = x * y\n",
        "s_div = x / y\n",
        "s_add,s_sub,s_mul,s_div"
      ],
      "metadata": {
        "colab": {
          "base_uri": "https://localhost:8080/"
        },
        "id": "lMvTZX7ptISz",
        "outputId": "36bc325a-c8c0-438b-9a54-3309583d1ac3"
      },
      "execution_count": 92,
      "outputs": [
        {
          "output_type": "execute_result",
          "data": {
            "text/plain": [
              "(<tf.Tensor: shape=(2, 3), dtype=int32, numpy=\n",
              " array([[ 8, 10, 12],\n",
              "        [14, 16, 18]], dtype=int32)>,\n",
              " <tf.Tensor: shape=(2, 3), dtype=int32, numpy=\n",
              " array([[-6, -6, -6],\n",
              "        [-6, -6, -6]], dtype=int32)>,\n",
              " <tf.Tensor: shape=(2, 3), dtype=int32, numpy=\n",
              " array([[ 7, 16, 27],\n",
              "        [40, 55, 72]], dtype=int32)>,\n",
              " <tf.Tensor: shape=(2, 3), dtype=float64, numpy=\n",
              " array([[0.14285714, 0.25      , 0.33333333],\n",
              "        [0.4       , 0.45454545, 0.5       ]])>)"
            ]
          },
          "metadata": {},
          "execution_count": 92
        }
      ]
    },
    {
      "cell_type": "markdown",
      "source": [
        "### 1.4.1 计算平方差"
      ],
      "metadata": {
        "id": "lSFAIAUlto2P"
      }
    },
    {
      "cell_type": "code",
      "source": [
        "s = tf.square(x - y)\n",
        "s"
      ],
      "metadata": {
        "colab": {
          "base_uri": "https://localhost:8080/"
        },
        "id": "Twrz5n2dtnCF",
        "outputId": "a61ac49a-20c3-4b00-e080-04284a2586d7"
      },
      "execution_count": 93,
      "outputs": [
        {
          "output_type": "execute_result",
          "data": {
            "text/plain": [
              "<tf.Tensor: shape=(2, 3), dtype=int32, numpy=\n",
              "array([[36, 36, 36],\n",
              "       [36, 36, 36]], dtype=int32)>"
            ]
          },
          "metadata": {},
          "execution_count": 93
        }
      ]
    },
    {
      "cell_type": "markdown",
      "source": [],
      "metadata": {
        "id": "o4XcFs2jt-Un"
      }
    },
    {
      "cell_type": "code",
      "source": [
        "#tf.reduce_mean()\n",
        "#tf.reduce_sum()\n",
        "numbers = tf.constant([[4.,5.],[7.,3.]])\n",
        "#计算全体压缩值\n",
        "tf.reduce_mean(numbers)\n",
        "tf.reduce_sum(numbers)\n",
        "#跨列的平均值，跨行的平均值\n",
        "tf.reduce_mean(numbers,axis=0),tf.reduce_mean(numbers,axis=1)\n",
        "#保留轴的被压缩的长度（1）\n",
        "tf.reduce_mean(numbers,axis=0,keepdims=True),tf.reduce_mean(numbers,axis=1,keepdims=True)"
      ],
      "metadata": {
        "colab": {
          "base_uri": "https://localhost:8080/"
        },
        "id": "0jjbOs6Xt3JO",
        "outputId": "dc6b3927-7138-4c50-d6a1-a03e2c637c38"
      },
      "execution_count": 94,
      "outputs": [
        {
          "output_type": "execute_result",
          "data": {
            "text/plain": [
              "(<tf.Tensor: shape=(1, 2), dtype=float32, numpy=array([[5.5, 4. ]], dtype=float32)>,\n",
              " <tf.Tensor: shape=(2, 1), dtype=float32, numpy=\n",
              " array([[4.5],\n",
              "        [5. ]], dtype=float32)>)"
            ]
          },
          "metadata": {},
          "execution_count": 94
        }
      ]
    },
    {
      "cell_type": "markdown",
      "source": [
        "### 1.4.3 随机初始化张量"
      ],
      "metadata": {
        "id": "rKuDTc7CXfKZ"
      }
    },
    {
      "cell_type": "code",
      "source": [
        "#tf.random.normal(shape,mean=0,stddev=1,dtype=tf.float32)\n",
        "tf.random.normal(shape=[2,3])\n",
        "#tf.random.uniform(shape,minval=0,maxval=None,dtype=float32,seed=None,name=None)\n",
        "tf.random.uniform(shape=[2,3])\n"
      ],
      "metadata": {
        "colab": {
          "base_uri": "https://localhost:8080/"
        },
        "id": "bAifWdUtXkS5",
        "outputId": "fa836af6-73ea-4435-98fb-4731ea0a794f"
      },
      "execution_count": 95,
      "outputs": [
        {
          "output_type": "execute_result",
          "data": {
            "text/plain": [
              "<tf.Tensor: shape=(2, 3), dtype=float32, numpy=\n",
              "array([[0.05992043, 0.16713   , 0.2246859 ],\n",
              "       [0.68918896, 0.91161704, 0.36847425]], dtype=float32)>"
            ]
          },
          "metadata": {},
          "execution_count": 95
        }
      ]
    },
    {
      "cell_type": "markdown",
      "source": [
        "### 1.4.4 查找最大值和最小值元素的索引"
      ],
      "metadata": {
        "id": "QNHbYcMgYkJ5"
      }
    },
    {
      "cell_type": "code",
      "source": [
        "#tf.argmax(input,axis=None,name=None,output_type=tf.int64)\n",
        "#tf.argmin(input,axis=None,name=None,output_type=tf.int64)\n",
        "t5 = tf.constant([1,2,3,4,5,6,7,8,9])\n",
        "print(t5)\n",
        "i = tf.argmax(input=t5)\n",
        "print(\"index of max is: \",i.numpy())\n",
        "print(\"Max element is: \",t5[i].numpy())\n",
        "\n",
        "t6 = tf.reshape(t5,[3,3])\n",
        "print(t6)\n",
        "i = tf.argmax(t6,axis=0)\n",
        "print(\"index of max down rows: \",i.numpy())\n"
      ],
      "metadata": {
        "id": "bz_pSU00YqFz",
        "colab": {
          "base_uri": "https://localhost:8080/"
        },
        "outputId": "d652ae78-e472-483e-cdf4-46891f46c28c"
      },
      "execution_count": 96,
      "outputs": [
        {
          "output_type": "stream",
          "name": "stdout",
          "text": [
            "tf.Tensor([1 2 3 4 5 6 7 8 9], shape=(9,), dtype=int32)\n",
            "index of max is:  8\n",
            "Max element is:  9\n",
            "tf.Tensor(\n",
            "[[1 2 3]\n",
            " [4 5 6]\n",
            " [7 8 9]], shape=(3, 3), dtype=int32)\n",
            "index of max down rows:  [2 2 2]\n"
          ]
        }
      ]
    },
    {
      "cell_type": "markdown",
      "source": [
        "### 1.4.5 使用checkpoint恢复张量"
      ],
      "metadata": {
        "id": "sxLz2rWcgSp8"
      }
    },
    {
      "cell_type": "code",
      "source": [
        "variable = tf.Variable([[1,2,3,4],[5,6,7,8]])\n",
        "checkpoint = tf.train.Checkpoint(var=variable)\n",
        "save_path = checkpoint.save('/vars')\n",
        "variable.assign([[0,0,0,0],[0,0,0,0]])\n",
        "print(variable)\n",
        "checkpoint.restore(save_path)\n",
        "print(variable)"
      ],
      "metadata": {
        "colab": {
          "base_uri": "https://localhost:8080/"
        },
        "id": "SLwW0w1fgbDu",
        "outputId": "a2cdd9ea-d190-49b5-a3ab-ae6d89bba4d2",
        "collapsed": true
      },
      "execution_count": 97,
      "outputs": [
        {
          "output_type": "stream",
          "name": "stdout",
          "text": [
            "<tf.Variable 'Variable:0' shape=(2, 4) dtype=int32, numpy=\n",
            "array([[0, 0, 0, 0],\n",
            "       [0, 0, 0, 0]], dtype=int32)>\n",
            "<tf.Variable 'Variable:0' shape=(2, 4) dtype=int32, numpy=\n",
            "array([[1, 2, 3, 4],\n",
            "       [5, 6, 7, 8]], dtype=int32)>\n"
          ]
        }
      ]
    },
    {
      "cell_type": "markdown",
      "source": [
        "### 1.4.6 tf.function"
      ],
      "metadata": {
        "id": "YyXJokxaRc3w"
      }
    },
    {
      "cell_type": "code",
      "source": [
        "def f1(x,y):\n",
        "  return tf.reduce_mean(input_tensor = tf.multiply(x ** 2, 5) + y ** 2)\n",
        "f2 = tf.function(f1)\n",
        "x = tf.constant([4,-5])\n",
        "y = tf.constant([2,3])\n",
        "print(f1)\n",
        "print(f2)\n",
        "assert f1(x,y).numpy() == f2(x,y).numpy()\n"
      ],
      "metadata": {
        "colab": {
          "base_uri": "https://localhost:8080/"
        },
        "id": "I5LOtr6FRdsU",
        "outputId": "18a0c3e6-753a-465c-e3c8-ca312bde4896"
      },
      "execution_count": 98,
      "outputs": [
        {
          "output_type": "stream",
          "name": "stdout",
          "text": [
            "<function f1 at 0x79cb7f2fa710>\n",
            "<tensorflow.python.eager.polymorphic_function.polymorphic_function.Function object at 0x79cb7f1a8fd0>\n"
          ]
        }
      ]
    },
    {
      "cell_type": "code",
      "source": [],
      "metadata": {
        "id": "_CkRnQY0TIgn"
      },
      "execution_count": 99,
      "outputs": []
    },
    {
      "cell_type": "code",
      "source": [],
      "metadata": {
        "id": "spdEsGVmWiqm"
      },
      "execution_count": null,
      "outputs": []
    }
  ]
}