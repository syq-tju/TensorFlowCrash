{
  "nbformat": 4,
  "nbformat_minor": 0,
  "metadata": {
    "colab": {
      "provenance": [],
      "authorship_tag": "ABX9TyPkoMgzLMkIRjCbiU9UHGj3",
      "include_colab_link": true
    },
    "kernelspec": {
      "name": "python3",
      "display_name": "Python 3"
    },
    "language_info": {
      "name": "python"
    }
  },
  "cells": [
    {
      "cell_type": "markdown",
      "metadata": {
        "id": "view-in-github",
        "colab_type": "text"
      },
      "source": [
        "<a href=\"https://colab.research.google.com/github/syq-tju/TensorFlowCrash/blob/main/TensorFlow2.ipynb\" target=\"_parent\"><img src=\"https://colab.research.google.com/assets/colab-badge.svg\" alt=\"Open In Colab\"/></a>"
      ]
    },
    {
      "cell_type": "code",
      "source": [
        "!apt install -y git\n"
      ],
      "metadata": {
        "colab": {
          "base_uri": "https://localhost:8080/"
        },
        "id": "NJwndUM0YN8W",
        "outputId": "485210d2-a450-4006-e4ec-36d8e8736eff"
      },
      "execution_count": 6,
      "outputs": [
        {
          "output_type": "stream",
          "name": "stdout",
          "text": [
            "Reading package lists... Done\n",
            "Building dependency tree... Done\n",
            "Reading state information... Done\n",
            "git is already the newest version (1:2.34.1-1ubuntu1.10).\n",
            "0 upgraded, 0 newly installed, 0 to remove and 19 not upgraded.\n"
          ]
        }
      ]
    },
    {
      "cell_type": "code",
      "source": [
        "!git clone https://github.com/syq-tju/TensorFlowCrash.git"
      ],
      "metadata": {
        "colab": {
          "base_uri": "https://localhost:8080/"
        },
        "id": "cezUF8rWbjJT",
        "outputId": "a387445f-ba6e-47d1-b25d-206c63f5b9c5"
      },
      "execution_count": 7,
      "outputs": [
        {
          "output_type": "stream",
          "name": "stdout",
          "text": [
            "Cloning into 'TensorFlowCrash'...\n",
            "remote: Enumerating objects: 3, done.\u001b[K\n",
            "remote: Counting objects:  33% (1/3)\u001b[K\rremote: Counting objects:  66% (2/3)\u001b[K\rremote: Counting objects: 100% (3/3)\u001b[K\rremote: Counting objects: 100% (3/3), done.\u001b[K\n",
            "remote: Total 3 (delta 0), reused 0 (delta 0), pack-reused 0\u001b[K\n",
            "Receiving objects:  33% (1/3)\rReceiving objects:  66% (2/3)\rReceiving objects: 100% (3/3)\rReceiving objects: 100% (3/3), done.\n"
          ]
        }
      ]
    },
    {
      "cell_type": "code",
      "source": [
        "!git config --global user.email \"shiyuqi@tju.edu.cn\"\n",
        "!git config --global user.name \"syq-tju\""
      ],
      "metadata": {
        "id": "FMTZY8r69Pey"
      },
      "execution_count": 8,
      "outputs": []
    },
    {
      "cell_type": "markdown",
      "source": [
        "### 1.3.1 导入TensorFlow"
      ],
      "metadata": {
        "id": "2QjEf0gS_7fU"
      }
    },
    {
      "cell_type": "code",
      "execution_count": 9,
      "metadata": {
        "colab": {
          "base_uri": "https://localhost:8080/"
        },
        "id": "hyUDHKV5EA1P",
        "outputId": "6e8b8e0c-19d4-448e-d582-1891a4660be3"
      },
      "outputs": [
        {
          "output_type": "stream",
          "name": "stdout",
          "text": [
            "Tensorflow version: 2.14.0\n",
            "Eager execution is: True\n"
          ]
        }
      ],
      "source": [
        "import tensorflow as tf\n",
        "print(\"Tensorflow version: {}\".format(tf.__version__))\n",
        "print(\"Eager execution is: {}\".format(tf.executing_eagerly()))\n",
        "#print(\"Keras version: {}\".format(tf.keras.__version__))"
      ]
    },
    {
      "cell_type": "markdown",
      "source": [
        "### 1.3.2 TensorFlow编码风格"
      ],
      "metadata": {
        "id": "zrf2nSGnABTX"
      }
    },
    {
      "cell_type": "markdown",
      "source": [
        "### 1.3.3 动态图机制（Eager Execution）"
      ],
      "metadata": {
        "id": "ZAhmUDX7AKsW"
      }
    },
    {
      "cell_type": "code",
      "source": [
        "\n",
        "#var = tf.Variable([3,3])\n",
        "with tf.device('/GPU:0'):\n",
        "    var = tf.Variable([3,3])\n",
        "\n",
        "\n",
        "# 列出所有的 GPU 设备\n",
        "gpus = tf.config.list_physical_devices('GPU')\n",
        "\n",
        "# 如果有 GPU 设备\n",
        "if gpus:\n",
        "    print('Running on GPU')\n",
        "    for gpu in gpus:\n",
        "        print(\"Device name:\", gpu.name)\n",
        "\n",
        "    # 检查 var 变量是否被分配给了第一个 GPU 设备\n",
        "    print('Is var on GPU #0?', var.device.endswith('GPU:0'))\n",
        "else:\n",
        "    print('No GPU devices found.')\n",
        "\n",
        "\n",
        "print(\"Device for var:\", var.device)\n"
      ],
      "metadata": {
        "colab": {
          "base_uri": "https://localhost:8080/"
        },
        "id": "GD2hOmIAJBw6",
        "outputId": "d353f9f8-397c-4892-a7c9-99ceb6fddb32"
      },
      "execution_count": 10,
      "outputs": [
        {
          "output_type": "stream",
          "name": "stdout",
          "text": [
            "No GPU devices found.\n",
            "Device for var: /job:localhost/replica:0/task:0/device:CPU:0\n"
          ]
        }
      ]
    },
    {
      "cell_type": "markdown",
      "source": [
        "### 1.3.4 声明Eager变量"
      ],
      "metadata": {
        "id": "6oBPJU2dAb6x"
      }
    },
    {
      "cell_type": "code",
      "source": [
        "t0 = 24\n",
        "t1 = tf.Variable(24)\n",
        "t2 = tf.Variable([[[0.,1,2],[3,4,5]],[[6,7,8],[9,10,11]]])\n",
        "t0,t1,t2"
      ],
      "metadata": {
        "colab": {
          "base_uri": "https://localhost:8080/"
        },
        "id": "Uz5tnlhYZicD",
        "outputId": "e300f7be-8c69-4e28-c84e-8fd3c00e250d"
      },
      "execution_count": 11,
      "outputs": [
        {
          "output_type": "execute_result",
          "data": {
            "text/plain": [
              "(24,\n",
              " <tf.Variable 'Variable:0' shape=() dtype=int32, numpy=24>,\n",
              " <tf.Variable 'Variable:0' shape=(2, 2, 3) dtype=float32, numpy=\n",
              " array([[[ 0.,  1.,  2.],\n",
              "         [ 3.,  4.,  5.]],\n",
              " \n",
              "        [[ 6.,  7.,  8.],\n",
              "         [ 9., 10., 11.]]], dtype=float32)>)"
            ]
          },
          "metadata": {},
          "execution_count": 11
        }
      ]
    },
    {
      "cell_type": "code",
      "source": [
        "f64 = tf.Variable(89,dtype = tf.float64)\n",
        "f64.dtype"
      ],
      "metadata": {
        "colab": {
          "base_uri": "https://localhost:8080/"
        },
        "id": "djz-tRhc5Xtt",
        "outputId": "d8848433-64cb-448d-b4ec-c7d9f4623faa"
      },
      "execution_count": 12,
      "outputs": [
        {
          "output_type": "execute_result",
          "data": {
            "text/plain": [
              "tf.float64"
            ]
          },
          "metadata": {},
          "execution_count": 12
        }
      ]
    },
    {
      "cell_type": "code",
      "source": [
        "f1 = tf.Variable(89.)\n",
        "f1\n",
        "f1.assign(98)\n",
        "f1"
      ],
      "metadata": {
        "colab": {
          "base_uri": "https://localhost:8080/"
        },
        "id": "YpAL1jEX5pXA",
        "outputId": "3098e12b-6d5a-432b-e714-043e7a605a35"
      },
      "execution_count": 13,
      "outputs": [
        {
          "output_type": "execute_result",
          "data": {
            "text/plain": [
              "<tf.Variable 'Variable:0' shape=() dtype=float32, numpy=98.0>"
            ]
          },
          "metadata": {},
          "execution_count": 13
        }
      ]
    },
    {
      "cell_type": "markdown",
      "source": [],
      "metadata": {
        "id": "1lhEisB5_6Au"
      }
    },
    {
      "cell_type": "markdown",
      "source": [
        "### 1.3.5 声明TensorFlow常量"
      ],
      "metadata": {
        "id": "pPStAz1b7UI9"
      }
    },
    {
      "cell_type": "code",
      "source": [
        "m_o_1 = tf.constant(42)\n",
        "m_o_1\n",
        "#m_o_1.numpy()"
      ],
      "metadata": {
        "colab": {
          "base_uri": "https://localhost:8080/"
        },
        "id": "QPvkFXlc6NLK",
        "outputId": "795f777c-28fa-4d80-a93b-4e54d88c5423"
      },
      "execution_count": 14,
      "outputs": [
        {
          "output_type": "execute_result",
          "data": {
            "text/plain": [
              "<tf.Tensor: shape=(), dtype=int32, numpy=42>"
            ]
          },
          "metadata": {},
          "execution_count": 14
        }
      ]
    },
    {
      "cell_type": "code",
      "source": [
        "unit = tf.constant(1,dtype = tf.int64)\n",
        "unit\n",
        "#unit.numpy()"
      ],
      "metadata": {
        "colab": {
          "base_uri": "https://localhost:8080/"
        },
        "id": "ezeq93LX6g4h",
        "outputId": "8f3cb74c-3684-4d03-c09b-0838e94fe8d9"
      },
      "execution_count": 15,
      "outputs": [
        {
          "output_type": "execute_result",
          "data": {
            "text/plain": [
              "<tf.Tensor: shape=(), dtype=int64, numpy=1>"
            ]
          },
          "metadata": {},
          "execution_count": 15
        }
      ]
    },
    {
      "cell_type": "markdown",
      "source": [
        "### 1.3.6 创建tensor张量"
      ],
      "metadata": {
        "id": "sXHrF6Zi6zab"
      }
    },
    {
      "cell_type": "code",
      "source": [
        "t2 = tf.Variable([[[0.,1,2],[3,4,5]],[[6,7,8],[9,10,11]]])\n",
        "print(t2.shape)\n",
        "r1 = tf.reshape(t2,[2,6])\n",
        "r2 = tf.reshape(t2,[1,-1])\n",
        "t2,r1,r2"
      ],
      "metadata": {
        "colab": {
          "base_uri": "https://localhost:8080/"
        },
        "id": "x27Izdc36ylg",
        "outputId": "263aefd4-428f-437b-9d70-1909d5533373"
      },
      "execution_count": 16,
      "outputs": [
        {
          "output_type": "stream",
          "name": "stdout",
          "text": [
            "(2, 2, 3)\n"
          ]
        },
        {
          "output_type": "execute_result",
          "data": {
            "text/plain": [
              "(<tf.Variable 'Variable:0' shape=(2, 2, 3) dtype=float32, numpy=\n",
              " array([[[ 0.,  1.,  2.],\n",
              "         [ 3.,  4.,  5.]],\n",
              " \n",
              "        [[ 6.,  7.,  8.],\n",
              "         [ 9., 10., 11.]]], dtype=float32)>,\n",
              " <tf.Tensor: shape=(2, 6), dtype=float32, numpy=\n",
              " array([[ 0.,  1.,  2.,  3.,  4.,  5.],\n",
              "        [ 6.,  7.,  8.,  9., 10., 11.]], dtype=float32)>,\n",
              " <tf.Tensor: shape=(1, 12), dtype=float32, numpy=\n",
              " array([[ 0.,  1.,  2.,  3.,  4.,  5.,  6.,  7.,  8.,  9., 10., 11.]],\n",
              "       dtype=float32)>)"
            ]
          },
          "metadata": {},
          "execution_count": 16
        }
      ]
    },
    {
      "cell_type": "markdown",
      "source": [
        "### 1.3.7 张量的秩（张量的维数）"
      ],
      "metadata": {
        "id": "W-1M7Y8ZExhE"
      }
    },
    {
      "cell_type": "code",
      "source": [
        "tf.rank(t2)   #表述t2是三维的张量，需要三个量确定t2里面的任意元素位置。"
      ],
      "metadata": {
        "colab": {
          "base_uri": "https://localhost:8080/"
        },
        "id": "LnjxqXTFEu1G",
        "outputId": "5adc07f8-7b6c-490d-a9d1-81f8180f5e91"
      },
      "execution_count": 17,
      "outputs": [
        {
          "output_type": "execute_result",
          "data": {
            "text/plain": [
              "<tf.Tensor: shape=(), dtype=int32, numpy=3>"
            ]
          },
          "metadata": {},
          "execution_count": 17
        }
      ]
    },
    {
      "cell_type": "markdown",
      "source": [
        "### 1.3.8 指定张量的元素"
      ],
      "metadata": {
        "id": "H7RVmQQGGLnv"
      }
    },
    {
      "cell_type": "code",
      "source": [
        "t3 = t2[1,0,2]\n",
        "t3"
      ],
      "metadata": {
        "colab": {
          "base_uri": "https://localhost:8080/"
        },
        "id": "T4TVHjqbGQL8",
        "outputId": "a21e7b4a-5f31-4433-91f9-b4eeabc8efd5"
      },
      "execution_count": 18,
      "outputs": [
        {
          "output_type": "execute_result",
          "data": {
            "text/plain": [
              "<tf.Tensor: shape=(), dtype=float32, numpy=8.0>"
            ]
          },
          "metadata": {},
          "execution_count": 18
        }
      ]
    },
    {
      "cell_type": "markdown",
      "source": [
        "### 1.3.9 张量转化为Numpy/Python变量"
      ],
      "metadata": {
        "id": "9zdg0HrOGmql"
      }
    },
    {
      "cell_type": "code",
      "source": [
        "print(t2.numpy())\n",
        "print(t2[1,0,2].numpy())"
      ],
      "metadata": {
        "colab": {
          "base_uri": "https://localhost:8080/"
        },
        "id": "xj751puGGtRw",
        "outputId": "244d9330-ff37-4ca6-95d8-406087f59837"
      },
      "execution_count": 19,
      "outputs": [
        {
          "output_type": "stream",
          "name": "stdout",
          "text": [
            "[[[ 0.  1.  2.]\n",
            "  [ 3.  4.  5.]]\n",
            "\n",
            " [[ 6.  7.  8.]\n",
            "  [ 9. 10. 11.]]]\n",
            "8.0\n"
          ]
        }
      ]
    },
    {
      "cell_type": "markdown",
      "source": [
        "### 1.3.10 计算张量的大小"
      ],
      "metadata": {
        "id": "Emegy7T-HB6h"
      }
    },
    {
      "cell_type": "code",
      "source": [
        "s = tf.size(input = t2).numpy()\n",
        "s"
      ],
      "metadata": {
        "colab": {
          "base_uri": "https://localhost:8080/"
        },
        "id": "IouUfpNmHIQe",
        "outputId": "af50fdd7-9911-4d03-8388-ac5236ac58a1"
      },
      "execution_count": 20,
      "outputs": [
        {
          "output_type": "execute_result",
          "data": {
            "text/plain": [
              "12"
            ]
          },
          "metadata": {},
          "execution_count": 20
        }
      ]
    },
    {
      "cell_type": "markdown",
      "source": [
        "### 1.3.11 查看张量的数据类型"
      ],
      "metadata": {
        "id": "tD98BRgxFvKJ"
      }
    },
    {
      "cell_type": "code",
      "source": [
        "t3.dtype"
      ],
      "metadata": {
        "colab": {
          "base_uri": "https://localhost:8080/"
        },
        "id": "u4YLEX7VF1zi",
        "outputId": "099da41c-f96c-49bc-b117-7fbb35005b81"
      },
      "execution_count": 21,
      "outputs": [
        {
          "output_type": "execute_result",
          "data": {
            "text/plain": [
              "tf.float32"
            ]
          },
          "metadata": {},
          "execution_count": 21
        }
      ]
    },
    {
      "cell_type": "markdown",
      "source": [
        "### 1.3.12 张量元素的基本运算规则"
      ],
      "metadata": {
        "id": "BS0gIpPVGWAd"
      }
    },
    {
      "cell_type": "code",
      "source": [
        "t2 * t2"
      ],
      "metadata": {
        "colab": {
          "base_uri": "https://localhost:8080/"
        },
        "id": "AdsbzUX-GcyF",
        "outputId": "f1eddcc1-fe86-406b-9473-825f72e94120"
      },
      "execution_count": 22,
      "outputs": [
        {
          "output_type": "execute_result",
          "data": {
            "text/plain": [
              "<tf.Tensor: shape=(2, 2, 3), dtype=float32, numpy=\n",
              "array([[[  0.,   1.,   4.],\n",
              "        [  9.,  16.,  25.]],\n",
              "\n",
              "       [[ 36.,  49.,  64.],\n",
              "        [ 81., 100., 121.]]], dtype=float32)>"
            ]
          },
          "metadata": {},
          "execution_count": 22
        }
      ]
    },
    {
      "cell_type": "markdown",
      "source": [
        "### 1.3.13 广播机制"
      ],
      "metadata": {
        "id": "l1L-nseXGsyA"
      }
    },
    {
      "cell_type": "code",
      "source": [
        "t4 = t2 * 4\n",
        "print(t4)\n",
        "t5 = tf.broadcast_to(t3,[2,2,3])\n",
        "print(t5)\n"
      ],
      "metadata": {
        "colab": {
          "base_uri": "https://localhost:8080/"
        },
        "id": "gaxZ6DC1GqG8",
        "outputId": "ea617605-22fb-40ce-b30d-b6cdf249dae8"
      },
      "execution_count": 23,
      "outputs": [
        {
          "output_type": "stream",
          "name": "stdout",
          "text": [
            "tf.Tensor(\n",
            "[[[ 0.  4.  8.]\n",
            "  [12. 16. 20.]]\n",
            "\n",
            " [[24. 28. 32.]\n",
            "  [36. 40. 44.]]], shape=(2, 2, 3), dtype=float32)\n",
            "tf.Tensor(\n",
            "[[[8. 8. 8.]\n",
            "  [8. 8. 8.]]\n",
            "\n",
            " [[8. 8. 8.]\n",
            "  [8. 8. 8.]]], shape=(2, 2, 3), dtype=float32)\n"
          ]
        }
      ]
    },
    {
      "cell_type": "markdown",
      "source": [
        "### 1.3.14 TensorFlow 转置和矩阵乘法\n"
      ],
      "metadata": {
        "id": "8CLvtgVEH4wn"
      }
    },
    {
      "cell_type": "code",
      "source": [
        "u = tf.constant([[3,4,3]])\n",
        "v = tf.constant([[1,2,3]])\n",
        "tf.matmul(u,tf.transpose(v))"
      ],
      "metadata": {
        "colab": {
          "base_uri": "https://localhost:8080/"
        },
        "id": "H_mWn0UAHAd1",
        "outputId": "686bfb5e-39e4-477f-8c7c-f05dcda39620"
      },
      "execution_count": 24,
      "outputs": [
        {
          "output_type": "execute_result",
          "data": {
            "text/plain": [
              "<tf.Tensor: shape=(1, 1), dtype=int32, numpy=array([[20]], dtype=int32)>"
            ]
          },
          "metadata": {},
          "execution_count": 24
        }
      ]
    },
    {
      "cell_type": "markdown",
      "source": [
        "### 1.3.15 张量数据类型转化"
      ],
      "metadata": {
        "id": "Z8azGRYOrXnk"
      }
    },
    {
      "cell_type": "code",
      "source": [
        "i = tf.cast(t1,dtype=tf.int32)\n",
        "print(i)\n",
        "j = tf.cast(tf.constant(2.5),dtype=tf.int32)\n",
        "print(j)\n"
      ],
      "metadata": {
        "colab": {
          "base_uri": "https://localhost:8080/"
        },
        "id": "cRCuhp--rh2X",
        "outputId": "f335a74e-cbe9-48eb-be90-41ca3264b08c"
      },
      "execution_count": 25,
      "outputs": [
        {
          "output_type": "stream",
          "name": "stdout",
          "text": [
            "<tf.Variable 'Variable:0' shape=() dtype=int32, numpy=24>\n",
            "tf.Tensor(2, shape=(), dtype=int32)\n"
          ]
        }
      ]
    },
    {
      "cell_type": "markdown",
      "source": [
        "### 1.3.16 声明不规则张量"
      ],
      "metadata": {
        "id": "B0EvCfAjsLnC"
      }
    },
    {
      "cell_type": "code",
      "source": [
        "ragged = tf.ragged.constant([[1,2,3,4],[],[5,6,7],[8],[9,10]])\n",
        "print(ragged)\n",
        "print(ragged.shape)\n",
        "print(ragged.dtype)\n",
        "print(ragged.to_tensor())\n"
      ],
      "metadata": {
        "colab": {
          "base_uri": "https://localhost:8080/"
        },
        "id": "SyfE_HOysIGK",
        "outputId": "2545f269-7753-4c77-cdd8-8516de942606"
      },
      "execution_count": 26,
      "outputs": [
        {
          "output_type": "stream",
          "name": "stdout",
          "text": [
            "<tf.RaggedTensor [[1, 2, 3, 4], [], [5, 6, 7], [8], [9, 10]]>\n",
            "(5, None)\n",
            "<dtype: 'int32'>\n",
            "tf.Tensor(\n",
            "[[ 1  2  3  4]\n",
            " [ 0  0  0  0]\n",
            " [ 5  6  7  0]\n",
            " [ 8  0  0  0]\n",
            " [ 9 10  0  0]], shape=(5, 4), dtype=int32)\n"
          ]
        }
      ]
    },
    {
      "cell_type": "markdown",
      "source": [
        "## 1.4 TensorFlow的基础操作"
      ],
      "metadata": {
        "id": "pUcLanfXtDnf"
      }
    },
    {
      "cell_type": "code",
      "source": [
        "from numpy import s_\n",
        "x = tf.constant([[1,2,3],[4,5,6]])\n",
        "y = tf.constant([[7,8,9],[10,11,12]])\n",
        "s_add = x + y\n",
        "s_sub = x - y\n",
        "s_mul = x * y\n",
        "s_div = x / y\n",
        "s_add,s_sub,s_mul,s_div"
      ],
      "metadata": {
        "colab": {
          "base_uri": "https://localhost:8080/"
        },
        "id": "lMvTZX7ptISz",
        "outputId": "61403c73-58bf-4603-8251-b6d9f1666e5c"
      },
      "execution_count": 27,
      "outputs": [
        {
          "output_type": "execute_result",
          "data": {
            "text/plain": [
              "(<tf.Tensor: shape=(2, 3), dtype=int32, numpy=\n",
              " array([[ 8, 10, 12],\n",
              "        [14, 16, 18]], dtype=int32)>,\n",
              " <tf.Tensor: shape=(2, 3), dtype=int32, numpy=\n",
              " array([[-6, -6, -6],\n",
              "        [-6, -6, -6]], dtype=int32)>,\n",
              " <tf.Tensor: shape=(2, 3), dtype=int32, numpy=\n",
              " array([[ 7, 16, 27],\n",
              "        [40, 55, 72]], dtype=int32)>,\n",
              " <tf.Tensor: shape=(2, 3), dtype=float64, numpy=\n",
              " array([[0.14285714, 0.25      , 0.33333333],\n",
              "        [0.4       , 0.45454545, 0.5       ]])>)"
            ]
          },
          "metadata": {},
          "execution_count": 27
        }
      ]
    },
    {
      "cell_type": "markdown",
      "source": [
        "### 1.4.1 计算平方差"
      ],
      "metadata": {
        "id": "lSFAIAUlto2P"
      }
    },
    {
      "cell_type": "code",
      "source": [
        "s = tf.square(x - y)\n",
        "s"
      ],
      "metadata": {
        "colab": {
          "base_uri": "https://localhost:8080/"
        },
        "id": "Twrz5n2dtnCF",
        "outputId": "836469b8-45c5-46de-a00b-52b22b0ae59d"
      },
      "execution_count": 28,
      "outputs": [
        {
          "output_type": "execute_result",
          "data": {
            "text/plain": [
              "<tf.Tensor: shape=(2, 3), dtype=int32, numpy=\n",
              "array([[36, 36, 36],\n",
              "       [36, 36, 36]], dtype=int32)>"
            ]
          },
          "metadata": {},
          "execution_count": 28
        }
      ]
    },
    {
      "cell_type": "markdown",
      "source": [],
      "metadata": {
        "id": "o4XcFs2jt-Un"
      }
    },
    {
      "cell_type": "code",
      "source": [
        "#tf.reduce_mean()\n",
        "#tf.reduce_sum()\n",
        "numbers = tf.constant([[4.,5.],[7.,3.]])\n",
        "#计算全体压缩值\n",
        "tf.reduce_mean(numbers)\n",
        "tf.reduce_sum(numbers)\n",
        "#跨列的平均值，跨行的平均值\n",
        "tf.reduce_mean(numbers,axis=0),tf.reduce_mean(numbers,axis=1)\n",
        "#保留轴的被压缩的长度（1）\n",
        "tf.reduce_mean(numbers,axis=0,keepdims=True),tf.reduce_mean(numbers,axis=1,keepdims=True)"
      ],
      "metadata": {
        "colab": {
          "base_uri": "https://localhost:8080/"
        },
        "id": "0jjbOs6Xt3JO",
        "outputId": "d26fa0f7-3652-492f-aa33-ffb7ce85aff0"
      },
      "execution_count": 29,
      "outputs": [
        {
          "output_type": "execute_result",
          "data": {
            "text/plain": [
              "(<tf.Tensor: shape=(1, 2), dtype=float32, numpy=array([[5.5, 4. ]], dtype=float32)>,\n",
              " <tf.Tensor: shape=(2, 1), dtype=float32, numpy=\n",
              " array([[4.5],\n",
              "        [5. ]], dtype=float32)>)"
            ]
          },
          "metadata": {},
          "execution_count": 29
        }
      ]
    },
    {
      "cell_type": "markdown",
      "source": [
        "### 1.4.3 随机初始化张量"
      ],
      "metadata": {
        "id": "rKuDTc7CXfKZ"
      }
    },
    {
      "cell_type": "code",
      "source": [
        "#tf.random.normal(shape,mean=0,stddev=1,dtype=tf.float32)\n",
        "tf.random.normal(shape=[2,3])\n",
        "#tf.random.uniform(shape,minval=0,maxval=None,dtype=float32,seed=None,name=None)\n",
        "tf.random.uniform(shape=[2,3])\n"
      ],
      "metadata": {
        "colab": {
          "base_uri": "https://localhost:8080/"
        },
        "id": "bAifWdUtXkS5",
        "outputId": "f5c6a8b1-c838-43cd-9646-e772f1d85b29"
      },
      "execution_count": 30,
      "outputs": [
        {
          "output_type": "execute_result",
          "data": {
            "text/plain": [
              "<tf.Tensor: shape=(2, 3), dtype=float32, numpy=\n",
              "array([[0.3058046 , 0.10020697, 0.65838623],\n",
              "       [0.7253113 , 0.66763663, 0.39767575]], dtype=float32)>"
            ]
          },
          "metadata": {},
          "execution_count": 30
        }
      ]
    },
    {
      "cell_type": "markdown",
      "source": [
        "### 1.4.4 查找最大值和最小值元素的索引"
      ],
      "metadata": {
        "id": "QNHbYcMgYkJ5"
      }
    },
    {
      "cell_type": "code",
      "source": [
        "#tf.argmax(input,axis=None,name=None,output_type=tf.int64)\n",
        "#tf.argmin(input,axis=None,name=None,output_type=tf.int64)\n",
        "t5 = tf.constant([1,2,3,4,5,6,7,8,9])\n",
        "print(t5)\n",
        "i = tf.argmax(input=t5)\n",
        "print(\"index of max is: \",i.numpy())\n",
        "print(\"Max element is: \",t5[i].numpy())\n",
        "\n",
        "t6 = tf.reshape(t5,[3,3])\n",
        "print(t6)\n",
        "i = tf.argmax(t6,axis=0)\n",
        "print(\"index of max down rows: \",i.numpy())\n"
      ],
      "metadata": {
        "id": "bz_pSU00YqFz",
        "colab": {
          "base_uri": "https://localhost:8080/"
        },
        "outputId": "d6e7b3a0-c3dd-44f1-c0ad-da5129138fdb"
      },
      "execution_count": 31,
      "outputs": [
        {
          "output_type": "stream",
          "name": "stdout",
          "text": [
            "tf.Tensor([1 2 3 4 5 6 7 8 9], shape=(9,), dtype=int32)\n",
            "index of max is:  8\n",
            "Max element is:  9\n",
            "tf.Tensor(\n",
            "[[1 2 3]\n",
            " [4 5 6]\n",
            " [7 8 9]], shape=(3, 3), dtype=int32)\n",
            "index of max down rows:  [2 2 2]\n"
          ]
        }
      ]
    },
    {
      "cell_type": "markdown",
      "source": [
        "### 1.4.5 使用checkpoint恢复张量"
      ],
      "metadata": {
        "id": "sxLz2rWcgSp8"
      }
    },
    {
      "cell_type": "code",
      "source": [
        "variable = tf.Variable([[1,2,3,4],[5,6,7,8]])\n",
        "checkpoint = tf.train.Checkpoint(var=variable)\n",
        "save_path = checkpoint.save('/vars')\n",
        "variable.assign([[0,0,0,0],[0,0,0,0]])\n",
        "print(variable)\n",
        "checkpoint.restore(save_path)\n",
        "print(variable)"
      ],
      "metadata": {
        "colab": {
          "base_uri": "https://localhost:8080/"
        },
        "id": "SLwW0w1fgbDu",
        "outputId": "d5671bbb-5a9e-4c16-cd7e-18f0832dba15"
      },
      "execution_count": 32,
      "outputs": [
        {
          "output_type": "stream",
          "name": "stdout",
          "text": [
            "<tf.Variable 'Variable:0' shape=(2, 4) dtype=int32, numpy=\n",
            "array([[0, 0, 0, 0],\n",
            "       [0, 0, 0, 0]], dtype=int32)>\n",
            "<tf.Variable 'Variable:0' shape=(2, 4) dtype=int32, numpy=\n",
            "array([[1, 2, 3, 4],\n",
            "       [5, 6, 7, 8]], dtype=int32)>\n"
          ]
        }
      ]
    },
    {
      "cell_type": "code",
      "source": [
        "!git add .\n",
        "!git commit -m \"Add Chapter 1\"\n"
      ],
      "metadata": {
        "colab": {
          "base_uri": "https://localhost:8080/"
        },
        "id": "CedpMExGbQsR",
        "outputId": "6b094839-d217-4906-890f-54fa51e9eba0"
      },
      "execution_count": 33,
      "outputs": [
        {
          "output_type": "stream",
          "name": "stdout",
          "text": [
            "warning: adding embedded git repository: TensorFlowCrash\n",
            "\u001b[33mhint: You've added another git repository inside your current repository.\u001b[m\n",
            "\u001b[33mhint: Clones of the outer repository will not contain the contents of\u001b[m\n",
            "\u001b[33mhint: the embedded repository and will not know how to obtain it.\u001b[m\n",
            "\u001b[33mhint: If you meant to add a submodule, use:\u001b[m\n",
            "\u001b[33mhint: \u001b[m\n",
            "\u001b[33mhint: \tgit submodule add <url> TensorFlowCrash\u001b[m\n",
            "\u001b[33mhint: \u001b[m\n",
            "\u001b[33mhint: If you added this path by mistake, you can remove it from the\u001b[m\n",
            "\u001b[33mhint: index with:\u001b[m\n",
            "\u001b[33mhint: \u001b[m\n",
            "\u001b[33mhint: \tgit rm --cached TensorFlowCrash\u001b[m\n",
            "\u001b[33mhint: \u001b[m\n",
            "\u001b[33mhint: See \"git help submodule\" for more information.\u001b[m\n",
            "[main f1c2481] Add Chapter 1\n",
            " 1 file changed, 1 insertion(+)\n",
            " create mode 160000 TensorFlowCrash\n"
          ]
        }
      ]
    },
    {
      "cell_type": "code",
      "source": [
        "!git push origin master\n"
      ],
      "metadata": {
        "colab": {
          "base_uri": "https://localhost:8080/"
        },
        "id": "e2jFSNiAbahG",
        "outputId": "98fcaa38-db1d-4c13-b6a2-6d38d6d1493f"
      },
      "execution_count": 35,
      "outputs": [
        {
          "output_type": "stream",
          "name": "stdout",
          "text": [
            "error: src refspec master does not match any\n",
            "\u001b[31merror: failed to push some refs to 'https://github.com/syq-tju/TensorFlowCrash.git'\n",
            "\u001b[m"
          ]
        }
      ]
    }
  ]
}